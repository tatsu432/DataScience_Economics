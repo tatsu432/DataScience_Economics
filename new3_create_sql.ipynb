{
 "cells": [
  {
   "cell_type": "code",
   "execution_count": 1,
   "metadata": {},
   "outputs": [],
   "source": [
    "import csv\n",
    "def read_csv(filename):\n",
    "    filename += \".csv\"\n",
    "    filename = \"CSV/\" + filename \n",
    "    lists = []\n",
    "    with open(filename, encoding=\"UTF-8\") as f:\n",
    "        for list in csv.reader(f):\n",
    "            list[1] = float(list[1])\n",
    "            list[2] = float(list[2])\n",
    "            lists.append(list)\n",
    "    return lists"
   ]
  },
  {
   "cell_type": "code",
   "execution_count": 2,
   "metadata": {},
   "outputs": [],
   "source": [
    "lists_IKEA = read_csv(\"IKEA\")\n",
    "lists_COSTCO = read_csv(\"COSTCO\")\n",
    "lists_LALAPORT = read_csv(\"LALAPORT\")\n",
    "lists_NITORI = read_csv(\"NITORI\")\n",
    "lists_DECOHOME = read_csv(\"DECOHOME\")\n",
    "lists_station = read_csv(\"station\")\n",
    "lists_all_stations = read_csv(\"all_stations\")\n",
    "lists_IC = read_csv(\"IC\")"
   ]
  },
  {
   "cell_type": "code",
   "execution_count": 3,
   "metadata": {},
   "outputs": [],
   "source": [
    "# import the module to calculate the distance (km) of two places\n",
    "# from latitude and longitude\n",
    "from geopy.distance import geodesic\n",
    "\n",
    "# define the function \n",
    "# input: list of shops and list of traffic or competitors\n",
    "# output: None\n",
    "# append the nearest distance into the list\n",
    "def dist(lists_shop, lists_traffic):\n",
    "    infty = 100000000000000000000000\n",
    "    for i in range(len(lists_shop)):\n",
    "        place_shop = (lists_shop[i][1], lists_shop[i][2])\n",
    "        mini_dist = infty\n",
    "\n",
    "        for j in range(len(lists_traffic)):\n",
    "            place_traffic = (lists_traffic[j][1], lists_traffic[j][2])\n",
    "            new_dist = geodesic(place_shop, place_traffic).km\n",
    "            mini_dist = min(mini_dist, new_dist)\n",
    "\n",
    "        lists_shop[i].append(mini_dist)"
   ]
  },
  {
   "cell_type": "code",
   "execution_count": 4,
   "metadata": {},
   "outputs": [],
   "source": [
    "# calculate the distance to the nearest hub station\n",
    "# calculate the distance to the nearest Inter Change\n",
    "dist(lists_IKEA, lists_station)\n",
    "dist(lists_IKEA, lists_IC)\n",
    "dist(lists_COSTCO, lists_station)\n",
    "dist(lists_COSTCO, lists_IC)\n",
    "\n",
    "# calculate the distance to the nearest LALAPORT (competitor)\n",
    "dist(lists_IKEA, lists_LALAPORT)\n",
    "dist(lists_COSTCO, lists_LALAPORT)\n",
    "\n",
    "# calculate the distance to the nearest NITORI (competitor)\n",
    "dist(lists_IKEA, lists_NITORI)\n",
    "dist(lists_COSTCO, lists_NITORI)\n",
    "\n",
    "# calculate the distance to the nearest DECOHOME (competitor)\n",
    "dist(lists_IKEA, lists_DECOHOME)\n",
    "dist(lists_COSTCO, lists_DECOHOME)\n",
    "\n",
    "# calculate the distance to the nearest all stations\n",
    "dist(lists_IKEA, lists_all_stations)\n",
    "dist(lists_COSTCO, lists_all_stations)"
   ]
  },
  {
   "cell_type": "code",
   "execution_count": 5,
   "metadata": {},
   "outputs": [],
   "source": [
    "# define the functoin to calculate the average distance from the subject (IKEA and COSTCO) to the nearest place (station, iC, LALAPORT, and NITORI)\n",
    "def calculate_average(column_number, place):\n",
    "    print(\"[{}]\".format(place))\n",
    "    \n",
    "    # calculate the average distance from IKEA to the nearest place\n",
    "    sum_IKEA = 0\n",
    "    for i in range(len(lists_IKEA)):\n",
    "        sum_IKEA += lists_IKEA[i][column_number]\n",
    "\n",
    "    avg_IKEA = sum_IKEA / len(lists_IKEA)\n",
    "    print(\"the average distance from IKEA to the nearest {}: {}km\".format(place, round(avg_IKEA, 1)))\n",
    "\n",
    "    # calculate the average distance from COSTCO to the nearest place\n",
    "    sum_COSTCO = 0\n",
    "    for i in range(len(lists_COSTCO)):\n",
    "        sum_COSTCO += lists_COSTCO[i][column_number]\n",
    "\n",
    "    avg_COSTCO= sum_COSTCO / len(lists_COSTCO) \n",
    "    print(\"the average distance from COSTCO to the nearest {}: {}km\".format(place, round(avg_COSTCO, 1)))\n",
    "\n",
    "    if(avg_IKEA < avg_COSTCO ):\n",
    "        print(\"IKEA is closer to the {} in terms of distance than COSTCO\\n\".format(place))\n",
    "    else:\n",
    "        print(\"COSTCO is closer to the {} in terms of distance than IKEA\\n\".format(place))"
   ]
  },
  {
   "cell_type": "code",
   "execution_count": 6,
   "metadata": {},
   "outputs": [
    {
     "name": "stdout",
     "output_type": "stream",
     "text": [
      "[hub station]\n",
      "the average distance from IKEA to the nearest hub station: 13.6km\n",
      "the average distance from COSTCO to the nearest hub station: 39.5km\n",
      "IKEA is closer to the hub station in terms of distance than COSTCO\n",
      "\n",
      "[Inter Change]\n",
      "the average distance from IKEA to the nearest Inter Change: 36.3km\n",
      "the average distance from COSTCO to the nearest Inter Change: 32.8km\n",
      "COSTCO is closer to the Inter Change in terms of distance than IKEA\n",
      "\n",
      "[LALAPORT (competitor)]\n",
      "the average distance from IKEA to the nearest LALAPORT (competitor): 27.0km\n",
      "the average distance from COSTCO to the nearest LALAPORT (competitor): 35.2km\n",
      "IKEA is closer to the LALAPORT (competitor) in terms of distance than COSTCO\n",
      "\n",
      "[NITORI (competitor)]\n",
      "the average distance from IKEA to the nearest NITORI (competitor): 18.1km\n",
      "the average distance from COSTCO to the nearest NITORI (competitor): 28.3km\n",
      "IKEA is closer to the NITORI (competitor) in terms of distance than COSTCO\n",
      "\n",
      "[DECOHOME (competitor)]\n",
      "the average distance from IKEA to the nearest DECOHOME (competitor): 11.1km\n",
      "the average distance from COSTCO to the nearest DECOHOME (competitor): 86.5km\n",
      "IKEA is closer to the DECOHOME (competitor) in terms of distance than COSTCO\n",
      "\n",
      "[all stations]\n",
      "the average distance from IKEA to the nearest all stations: 5.0km\n",
      "the average distance from COSTCO to the nearest all stations: 9.6km\n",
      "IKEA is closer to the all stations in terms of distance than COSTCO\n",
      "\n"
     ]
    }
   ],
   "source": [
    "calculate_average(3, \"hub station\")\n",
    "calculate_average(4, \"Inter Change\")\n",
    "calculate_average(5, \"LALAPORT (competitor)\")\n",
    "calculate_average(6, \"NITORI (competitor)\")\n",
    "calculate_average(7, \"DECOHOME (competitor)\")\n",
    "calculate_average(8, \"all stations\")"
   ]
  },
  {
   "cell_type": "code",
   "execution_count": 7,
   "metadata": {},
   "outputs": [],
   "source": [
    "def make_SQL(lists_table, SQL_table_name, SQL_table_id):\n",
    "    # create the SQL command for inserting the data\n",
    "    for i in range(len(lists_table)):\n",
    "        sql_command = \"INSERT INTO `{}` (`{}`, `name`, `latitude`, `longitude`) VALUES ('{}', '{}', '{}', '{}');\".format(SQL_table_name, SQL_table_id, i+1, lists_table[i][0], lists_table[i][1], lists_table[i][2])\n",
    "        with open(\"SQL/INSERT_PLACE.sql\", \"a\", encoding=\"UTF-8\") as f:\n",
    "            f.write(sql_command + \"\\n\")"
   ]
  },
  {
   "cell_type": "code",
   "execution_count": 8,
   "metadata": {},
   "outputs": [],
   "source": [
    "# create the SQL command for inserting the IKEA data\n",
    "make_SQL(lists_IKEA, \"ikeas\", \"ikea_id\")\n",
    "\n",
    "# create the SQL command for inserting the COSTCO data\n",
    "make_SQL(lists_COSTCO, \"costcos\", \"costco_id\")\n",
    "\n",
    "# create the SQL command for inserting the station data\n",
    "make_SQL(lists_station, \"stations\", \"station_id\")\n",
    "\n",
    "# create the SQL command for inserting the Inter Chnage data\n",
    "make_SQL(lists_IC, \"ics\", \"ic_id\")\n",
    "\n",
    "# create the SQL command for inserting the LALAPORT data\n",
    "make_SQL(lists_LALAPORT, \"lalaports\", \"lalaport_id\")\n",
    "\n",
    "# create the SQL command for inserting the NITORI data\n",
    "make_SQL(lists_NITORI, \"nitoris\", \"nitori_id\")\n",
    "\n",
    "# create the SQL command for inserting the DECOHOME data\n",
    "make_SQL(lists_DECOHOME, \"decohomes\", \"decohome_id\")\n",
    "\n",
    "# create the SQL command for inserting the all station data\n",
    "make_SQL(lists_all_stations, \"all_stations\", \"all_station_id\")"
   ]
  },
  {
   "cell_type": "code",
   "execution_count": 9,
   "metadata": {},
   "outputs": [],
   "source": [
    "# define function to craete the data for relatinoal database\n",
    "from geopy.distance import geodesic\n",
    "def make_relation(table_name, lists_shop, lists_traffic_competitor, number_traffic_competitor):\n",
    "    for i in range(len(lists_shop)):\n",
    "        shop_lat_long = (lists_shop[i][1], lists_shop[i][2])\n",
    "        \n",
    "        for j in range(len(lists_traffic_competitor)):\n",
    "            traffic_competitor_lat_long = (lists_traffic_competitor[j][1], lists_traffic_competitor[j][2])\n",
    "            dist = geodesic(shop_lat_long, traffic_competitor_lat_long).km\n",
    "            if (lists_shop[i][number_traffic_competitor] == dist):\n",
    "                relation_list = [i+1, j+1, dist]\n",
    "                table_name.append(relation_list)\n",
    "                break"
   ]
  },
  {
   "cell_type": "code",
   "execution_count": 10,
   "metadata": {},
   "outputs": [],
   "source": [
    "# apply the function and create the eight lists for the relational database\n",
    "relation_ikea_station = []\n",
    "make_relation(relation_ikea_station, lists_IKEA, lists_station, 3)\n",
    "\n",
    "relation_ikea_ic = []\n",
    "make_relation(relation_ikea_ic, lists_IKEA, lists_IC, 4)\n",
    "\n",
    "relation_ikea_lalaport = []\n",
    "make_relation(relation_ikea_lalaport, lists_IKEA, lists_LALAPORT, 5)\n",
    "\n",
    "relation_ikea_nitori = []\n",
    "make_relation(relation_ikea_nitori, lists_IKEA, lists_NITORI, 6)\n",
    "\n",
    "relation_ikea_decohome = []\n",
    "make_relation(relation_ikea_decohome, lists_IKEA, lists_DECOHOME, 7)\n",
    "\n",
    "relation_ikea_all_station = []\n",
    "make_relation(relation_ikea_all_station, lists_IKEA, lists_all_stations, 8)\n",
    "\n",
    "\n",
    "relation_costco_station = []\n",
    "make_relation(relation_costco_station, lists_COSTCO, lists_station, 3)\n",
    "\n",
    "relation_costco_ic = []\n",
    "make_relation(relation_costco_ic, lists_COSTCO, lists_IC, 4)\n",
    "\n",
    "relation_costco_lalaport = []\n",
    "make_relation(relation_costco_lalaport, lists_COSTCO, lists_LALAPORT, 5)\n",
    "\n",
    "relation_costco_nitori = []\n",
    "make_relation(relation_costco_nitori, lists_COSTCO, lists_NITORI, 6)\n",
    "\n",
    "relation_costco_decohome = []\n",
    "make_relation(relation_costco_decohome, lists_COSTCO, lists_DECOHOME, 7)\n",
    "\n",
    "relation_costco_all_station = []\n",
    "make_relation(relation_costco_all_station, lists_COSTCO, lists_all_stations, 8)"
   ]
  },
  {
   "cell_type": "code",
   "execution_count": 11,
   "metadata": {},
   "outputs": [],
   "source": [
    "# define function to make SQL code to create the relational tables \n",
    "# each table contains \n",
    "# column1. the id of shops (IKEA or COSTCO)\n",
    "# column2. the id of the nearest traffic places (station or IC) or competitors (LALAPORT or NITORI)\n",
    "# column3. the distcande bewtween column1 and column2\n",
    "def create_SQL_relational(shop_name, traffic_competitor_name):\n",
    "   sql_command = \"CREATE TABLE `relation_{}_{}` ( `{}_id` INT NOT NULL, `{}_id` INT NOT NULL, `dist_{}` DOUBLE NOT NULL, PRIMARY KEY (`{}_id`, `{}_id`)) ENGINE = InnoDB;\".format(shop_name, traffic_competitor_name, shop_name, traffic_competitor_name, traffic_competitor_name, shop_name, traffic_competitor_name)\n",
    "   with open(\"SQL/CREATE_RELATIONAL.sql\", \"a\", encoding=\"UTF-8\") as f:\n",
    "      f.write(sql_command + \"\\n\")"
   ]
  },
  {
   "cell_type": "code",
   "execution_count": 12,
   "metadata": {},
   "outputs": [],
   "source": [
    "# generate the code to create the eight tables\n",
    "create_SQL_relational(\"ikea\", \"station\")\n",
    "create_SQL_relational(\"ikea\", \"ic\")\n",
    "create_SQL_relational(\"ikea\", \"lalaport\")\n",
    "create_SQL_relational(\"ikea\", \"nitori\")\n",
    "create_SQL_relational(\"ikea\", \"decohome\")\n",
    "create_SQL_relational(\"ikea\", \"all_station\")\n",
    "\n",
    "create_SQL_relational(\"costco\", \"station\")\n",
    "create_SQL_relational(\"costco\", \"ic\")\n",
    "create_SQL_relational(\"costco\", \"lalaport\")\n",
    "create_SQL_relational(\"costco\", \"nitori\")\n",
    "create_SQL_relational(\"costco\", \"decohome\")\n",
    "create_SQL_relational(\"costco\", \"all_station\")"
   ]
  },
  {
   "cell_type": "code",
   "execution_count": 13,
   "metadata": {},
   "outputs": [],
   "source": [
    "# define function to make SQL code to create the foreign keys\n",
    "def alter_SQL_relational(shop_name, traffic_competitor_name):\n",
    "   sql_command1 = \"ALTER TABLE `relation_{}_{}` ADD FOREIGN KEY (`{}_id`) REFERENCES `{}s`(`{}_id`) ON DELETE RESTRICT ON UPDATE RESTRICT;\".format(shop_name, traffic_competitor_name, shop_name, shop_name, shop_name)\n",
    "   sql_command2 = \"ALTER TABLE `relation_{}_{}` ADD FOREIGN KEY (`{}_id`) REFERENCES `{}s`(`{}_id`) ON DELETE RESTRICT ON UPDATE RESTRICT;\".format(shop_name, traffic_competitor_name, traffic_competitor_name, traffic_competitor_name, traffic_competitor_name)\n",
    "   with open(\"SQL/ALTER_RELATIONAL.sql\", \"a\", encoding=\"UTF-8\") as f:\n",
    "      f.write(sql_command1 + \"\\n\" + sql_command2 + \"\\n\")"
   ]
  },
  {
   "cell_type": "code",
   "execution_count": 14,
   "metadata": {},
   "outputs": [],
   "source": [
    "# generate the ALTER code\n",
    "alter_SQL_relational(\"ikea\", \"station\")\n",
    "alter_SQL_relational(\"ikea\", \"ic\")\n",
    "alter_SQL_relational(\"ikea\", \"lalaport\")\n",
    "alter_SQL_relational(\"ikea\", \"nitori\")\n",
    "alter_SQL_relational(\"ikea\", \"decohome\")\n",
    "alter_SQL_relational(\"ikea\", \"all_station\")\n",
    "\n",
    "alter_SQL_relational(\"costco\", \"station\")\n",
    "alter_SQL_relational(\"costco\", \"ic\")\n",
    "alter_SQL_relational(\"costco\", \"lalaport\")\n",
    "alter_SQL_relational(\"costco\", \"nitori\")\n",
    "alter_SQL_relational(\"costco\", \"decohome\")\n",
    "alter_SQL_relational(\"costco\", \"all_station\")"
   ]
  },
  {
   "cell_type": "code",
   "execution_count": 15,
   "metadata": {},
   "outputs": [],
   "source": [
    "# define the function to insert the data into relational table \n",
    "def insert_SQL_relational(list_table, shop_name, traffic_competitor_name):\n",
    "   for i in range(len(list_table)):\n",
    "      sql_command = \"INSERT INTO `relation_{}_{}` (`{}_id`, `{}_id`, `dist_{}`) VALUES ('{}', '{}', '{}');\".format(shop_name, traffic_competitor_name, shop_name, traffic_competitor_name, traffic_competitor_name, list_table[i][0], list_table[i][1], list_table[i][2])\n",
    "      with open(\"SQL/INSERT_RELATIONAL.sql\", \"a\", encoding=\"UTF-8\") as f:\n",
    "         f.write(sql_command + \"\\n\")"
   ]
  },
  {
   "cell_type": "code",
   "execution_count": 16,
   "metadata": {},
   "outputs": [],
   "source": [
    "# generate the SQL codes\n",
    "insert_SQL_relational(relation_ikea_station, \"ikea\", \"station\")\n",
    "insert_SQL_relational(relation_ikea_ic, \"ikea\", \"ic\")\n",
    "insert_SQL_relational(relation_ikea_lalaport, \"ikea\", \"lalaport\")\n",
    "insert_SQL_relational(relation_ikea_nitori, \"ikea\", \"nitori\")\n",
    "insert_SQL_relational(relation_ikea_decohome, \"ikea\", \"decohome\")\n",
    "insert_SQL_relational(relation_ikea_all_station, \"ikea\", \"all_station\")\n",
    "\n",
    "insert_SQL_relational(relation_costco_station, \"costco\", \"station\")\n",
    "insert_SQL_relational(relation_costco_ic, \"costco\", \"ic\")\n",
    "insert_SQL_relational(relation_costco_lalaport, \"costco\", \"lalaport\")\n",
    "insert_SQL_relational(relation_costco_nitori, \"costco\", \"nitori\")\n",
    "insert_SQL_relational(relation_costco_decohome, \"costco\", \"decohome\")\n",
    "insert_SQL_relational(relation_costco_all_station, \"costco\", \"all_station\")"
   ]
  }
 ],
 "metadata": {
  "kernelspec": {
   "display_name": "Python 3.8.12 ('py38')",
   "language": "python",
   "name": "python3"
  },
  "language_info": {
   "codemirror_mode": {
    "name": "ipython",
    "version": 3
   },
   "file_extension": ".py",
   "mimetype": "text/x-python",
   "name": "python",
   "nbconvert_exporter": "python",
   "pygments_lexer": "ipython3",
   "version": "3.8.12"
  },
  "orig_nbformat": 4,
  "vscode": {
   "interpreter": {
    "hash": "f5e3262b98ad20e887e1fb690ac09d67b07404b00d992e14062cb8835541b800"
   }
  }
 },
 "nbformat": 4,
 "nbformat_minor": 2
}
